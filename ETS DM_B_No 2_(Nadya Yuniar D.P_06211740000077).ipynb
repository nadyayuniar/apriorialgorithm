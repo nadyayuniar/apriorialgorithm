{
 "cells": [
  {
   "cell_type": "code",
   "execution_count": 1,
   "metadata": {},
   "outputs": [],
   "source": [
    "import pandas as pd\n",
    "import numpy as np\n",
    "import datetime as dt\n",
    "from mlxtend.frequent_patterns import apriori\n",
    "from mlxtend.frequent_patterns import association_rules\n",
    "import matplotlib.pyplot as plt                                    \n",
    "import seaborn as sns                                             \n",
    "%matplotlib inline"
   ]
  },
  {
   "cell_type": "code",
   "execution_count": 2,
   "metadata": {},
   "outputs": [
    {
     "data": {
      "text/html": [
       "<div>\n",
       "<style scoped>\n",
       "    .dataframe tbody tr th:only-of-type {\n",
       "        vertical-align: middle;\n",
       "    }\n",
       "\n",
       "    .dataframe tbody tr th {\n",
       "        vertical-align: top;\n",
       "    }\n",
       "\n",
       "    .dataframe thead th {\n",
       "        text-align: right;\n",
       "    }\n",
       "</style>\n",
       "<table border=\"1\" class=\"dataframe\">\n",
       "  <thead>\n",
       "    <tr style=\"text-align: right;\">\n",
       "      <th></th>\n",
       "      <th>InvoiceNo</th>\n",
       "      <th>StockCode</th>\n",
       "      <th>Description</th>\n",
       "      <th>Quantity</th>\n",
       "      <th>InvoiceDate</th>\n",
       "      <th>UnitPrice</th>\n",
       "      <th>CustomerID</th>\n",
       "      <th>Country</th>\n",
       "    </tr>\n",
       "  </thead>\n",
       "  <tbody>\n",
       "    <tr>\n",
       "      <td>0</td>\n",
       "      <td>536365</td>\n",
       "      <td>85123A</td>\n",
       "      <td>WHITE HANGING HEART T-LIGHT HOLDER</td>\n",
       "      <td>6.0</td>\n",
       "      <td>2010-12-01 08:26:00</td>\n",
       "      <td>2.55</td>\n",
       "      <td>17850.0</td>\n",
       "      <td>United Kingdom</td>\n",
       "    </tr>\n",
       "    <tr>\n",
       "      <td>1</td>\n",
       "      <td>536365</td>\n",
       "      <td>71053</td>\n",
       "      <td>WHITE METAL LANTERN</td>\n",
       "      <td>6.0</td>\n",
       "      <td>2010-12-01 08:26:00</td>\n",
       "      <td>3.39</td>\n",
       "      <td>17850.0</td>\n",
       "      <td>United Kingdom</td>\n",
       "    </tr>\n",
       "    <tr>\n",
       "      <td>2</td>\n",
       "      <td>536365</td>\n",
       "      <td>84406B</td>\n",
       "      <td>CREAM CUPID HEARTS COAT HANGER</td>\n",
       "      <td>8.0</td>\n",
       "      <td>2010-12-01 08:26:00</td>\n",
       "      <td>2.75</td>\n",
       "      <td>17850.0</td>\n",
       "      <td>United Kingdom</td>\n",
       "    </tr>\n",
       "    <tr>\n",
       "      <td>3</td>\n",
       "      <td>536365</td>\n",
       "      <td>84029G</td>\n",
       "      <td>KNITTED UNION FLAG HOT WATER BOTTLE</td>\n",
       "      <td>6.0</td>\n",
       "      <td>2010-12-01 08:26:00</td>\n",
       "      <td>3.39</td>\n",
       "      <td>17850.0</td>\n",
       "      <td>United Kingdom</td>\n",
       "    </tr>\n",
       "    <tr>\n",
       "      <td>4</td>\n",
       "      <td>536365</td>\n",
       "      <td>84029E</td>\n",
       "      <td>RED WOOLLY HOTTIE WHITE HEART.</td>\n",
       "      <td>6.0</td>\n",
       "      <td>2010-12-01 08:26:00</td>\n",
       "      <td>3.39</td>\n",
       "      <td>17850.0</td>\n",
       "      <td>United Kingdom</td>\n",
       "    </tr>\n",
       "  </tbody>\n",
       "</table>\n",
       "</div>"
      ],
      "text/plain": [
       "  InvoiceNo StockCode                          Description  Quantity  \\\n",
       "0    536365    85123A   WHITE HANGING HEART T-LIGHT HOLDER       6.0   \n",
       "1    536365     71053                  WHITE METAL LANTERN       6.0   \n",
       "2    536365    84406B       CREAM CUPID HEARTS COAT HANGER       8.0   \n",
       "3    536365    84029G  KNITTED UNION FLAG HOT WATER BOTTLE       6.0   \n",
       "4    536365    84029E       RED WOOLLY HOTTIE WHITE HEART.       6.0   \n",
       "\n",
       "          InvoiceDate  UnitPrice  CustomerID         Country  \n",
       "0 2010-12-01 08:26:00       2.55     17850.0  United Kingdom  \n",
       "1 2010-12-01 08:26:00       3.39     17850.0  United Kingdom  \n",
       "2 2010-12-01 08:26:00       2.75     17850.0  United Kingdom  \n",
       "3 2010-12-01 08:26:00       3.39     17850.0  United Kingdom  \n",
       "4 2010-12-01 08:26:00       3.39     17850.0  United Kingdom  "
      ]
     },
     "execution_count": 2,
     "metadata": {},
     "output_type": "execute_result"
    }
   ],
   "source": [
    "#read data\n",
    "online = pd.read_excel('C:/Users/maris/Downloads/online retail.xlsx', encoding='latin1')\n",
    "online.head()"
   ]
  },
  {
   "cell_type": "code",
   "execution_count": 3,
   "metadata": {},
   "outputs": [
    {
     "data": {
      "text/html": [
       "<div>\n",
       "<style scoped>\n",
       "    .dataframe tbody tr th:only-of-type {\n",
       "        vertical-align: middle;\n",
       "    }\n",
       "\n",
       "    .dataframe tbody tr th {\n",
       "        vertical-align: top;\n",
       "    }\n",
       "\n",
       "    .dataframe thead th {\n",
       "        text-align: right;\n",
       "    }\n",
       "</style>\n",
       "<table border=\"1\" class=\"dataframe\">\n",
       "  <thead>\n",
       "    <tr style=\"text-align: right;\">\n",
       "      <th></th>\n",
       "      <th>InvoiceNo</th>\n",
       "      <th>StockCode</th>\n",
       "      <th>Description</th>\n",
       "      <th>Quantity</th>\n",
       "      <th>InvoiceDate</th>\n",
       "      <th>UnitPrice</th>\n",
       "      <th>CustomerID</th>\n",
       "      <th>Country</th>\n",
       "      <th>TotalAmount</th>\n",
       "      <th>InvoiceYear</th>\n",
       "      <th>InvoiceMonth</th>\n",
       "      <th>InvoiceYearMonth</th>\n",
       "    </tr>\n",
       "  </thead>\n",
       "  <tbody>\n",
       "    <tr>\n",
       "      <td>0</td>\n",
       "      <td>536365</td>\n",
       "      <td>85123A</td>\n",
       "      <td>WHITE HANGING HEART T-LIGHT HOLDER</td>\n",
       "      <td>6.0</td>\n",
       "      <td>2010-12-01 08:26:00</td>\n",
       "      <td>2.55</td>\n",
       "      <td>17850.0</td>\n",
       "      <td>United Kingdom</td>\n",
       "      <td>15.30</td>\n",
       "      <td>2010.0</td>\n",
       "      <td>12.0</td>\n",
       "      <td>2010.0-12.0</td>\n",
       "    </tr>\n",
       "    <tr>\n",
       "      <td>1</td>\n",
       "      <td>536365</td>\n",
       "      <td>71053</td>\n",
       "      <td>WHITE METAL LANTERN</td>\n",
       "      <td>6.0</td>\n",
       "      <td>2010-12-01 08:26:00</td>\n",
       "      <td>3.39</td>\n",
       "      <td>17850.0</td>\n",
       "      <td>United Kingdom</td>\n",
       "      <td>20.34</td>\n",
       "      <td>2010.0</td>\n",
       "      <td>12.0</td>\n",
       "      <td>2010.0-12.0</td>\n",
       "    </tr>\n",
       "    <tr>\n",
       "      <td>2</td>\n",
       "      <td>536365</td>\n",
       "      <td>84406B</td>\n",
       "      <td>CREAM CUPID HEARTS COAT HANGER</td>\n",
       "      <td>8.0</td>\n",
       "      <td>2010-12-01 08:26:00</td>\n",
       "      <td>2.75</td>\n",
       "      <td>17850.0</td>\n",
       "      <td>United Kingdom</td>\n",
       "      <td>22.00</td>\n",
       "      <td>2010.0</td>\n",
       "      <td>12.0</td>\n",
       "      <td>2010.0-12.0</td>\n",
       "    </tr>\n",
       "    <tr>\n",
       "      <td>3</td>\n",
       "      <td>536365</td>\n",
       "      <td>84029G</td>\n",
       "      <td>KNITTED UNION FLAG HOT WATER BOTTLE</td>\n",
       "      <td>6.0</td>\n",
       "      <td>2010-12-01 08:26:00</td>\n",
       "      <td>3.39</td>\n",
       "      <td>17850.0</td>\n",
       "      <td>United Kingdom</td>\n",
       "      <td>20.34</td>\n",
       "      <td>2010.0</td>\n",
       "      <td>12.0</td>\n",
       "      <td>2010.0-12.0</td>\n",
       "    </tr>\n",
       "    <tr>\n",
       "      <td>4</td>\n",
       "      <td>536365</td>\n",
       "      <td>84029E</td>\n",
       "      <td>RED WOOLLY HOTTIE WHITE HEART.</td>\n",
       "      <td>6.0</td>\n",
       "      <td>2010-12-01 08:26:00</td>\n",
       "      <td>3.39</td>\n",
       "      <td>17850.0</td>\n",
       "      <td>United Kingdom</td>\n",
       "      <td>20.34</td>\n",
       "      <td>2010.0</td>\n",
       "      <td>12.0</td>\n",
       "      <td>2010.0-12.0</td>\n",
       "    </tr>\n",
       "  </tbody>\n",
       "</table>\n",
       "</div>"
      ],
      "text/plain": [
       "  InvoiceNo StockCode                          Description  Quantity  \\\n",
       "0    536365    85123A   WHITE HANGING HEART T-LIGHT HOLDER       6.0   \n",
       "1    536365     71053                  WHITE METAL LANTERN       6.0   \n",
       "2    536365    84406B       CREAM CUPID HEARTS COAT HANGER       8.0   \n",
       "3    536365    84029G  KNITTED UNION FLAG HOT WATER BOTTLE       6.0   \n",
       "4    536365    84029E       RED WOOLLY HOTTIE WHITE HEART.       6.0   \n",
       "\n",
       "          InvoiceDate  UnitPrice  CustomerID         Country  TotalAmount  \\\n",
       "0 2010-12-01 08:26:00       2.55     17850.0  United Kingdom        15.30   \n",
       "1 2010-12-01 08:26:00       3.39     17850.0  United Kingdom        20.34   \n",
       "2 2010-12-01 08:26:00       2.75     17850.0  United Kingdom        22.00   \n",
       "3 2010-12-01 08:26:00       3.39     17850.0  United Kingdom        20.34   \n",
       "4 2010-12-01 08:26:00       3.39     17850.0  United Kingdom        20.34   \n",
       "\n",
       "   InvoiceYear  InvoiceMonth InvoiceYearMonth  \n",
       "0       2010.0          12.0      2010.0-12.0  \n",
       "1       2010.0          12.0      2010.0-12.0  \n",
       "2       2010.0          12.0      2010.0-12.0  \n",
       "3       2010.0          12.0      2010.0-12.0  \n",
       "4       2010.0          12.0      2010.0-12.0  "
      ]
     },
     "execution_count": 3,
     "metadata": {},
     "output_type": "execute_result"
    }
   ],
   "source": [
    "online['TotalAmount'] = online['Quantity'] * online['UnitPrice']\n",
    "online['InvoiceYear'] = (online['InvoiceDate'].dt.year)\n",
    "online['InvoiceMonth'] = (online['InvoiceDate'].dt.month)\n",
    "online['InvoiceYearMonth'] = online['InvoiceYear'].map(str) + \"-\" + online['InvoiceMonth'].map(str)\n",
    "online.head()"
   ]
  },
  {
   "cell_type": "code",
   "execution_count": 4,
   "metadata": {},
   "outputs": [
    {
     "data": {
      "text/html": [
       "<div>\n",
       "<style scoped>\n",
       "    .dataframe tbody tr th:only-of-type {\n",
       "        vertical-align: middle;\n",
       "    }\n",
       "\n",
       "    .dataframe tbody tr th {\n",
       "        vertical-align: top;\n",
       "    }\n",
       "\n",
       "    .dataframe thead th {\n",
       "        text-align: right;\n",
       "    }\n",
       "</style>\n",
       "<table border=\"1\" class=\"dataframe\">\n",
       "  <thead>\n",
       "    <tr style=\"text-align: right;\">\n",
       "      <th></th>\n",
       "      <th>Quantity</th>\n",
       "      <th>UnitPrice</th>\n",
       "      <th>CustomerID</th>\n",
       "      <th>TotalAmount</th>\n",
       "      <th>InvoiceYear</th>\n",
       "      <th>InvoiceMonth</th>\n",
       "    </tr>\n",
       "  </thead>\n",
       "  <tbody>\n",
       "    <tr>\n",
       "      <td>count</td>\n",
       "      <td>534531.000000</td>\n",
       "      <td>534531.000000</td>\n",
       "      <td>401689.000000</td>\n",
       "      <td>534531.000000</td>\n",
       "      <td>534531.000000</td>\n",
       "      <td>534531.000000</td>\n",
       "    </tr>\n",
       "    <tr>\n",
       "      <td>mean</td>\n",
       "      <td>9.603232</td>\n",
       "      <td>4.635673</td>\n",
       "      <td>15289.649273</td>\n",
       "      <td>18.063938</td>\n",
       "      <td>2010.922685</td>\n",
       "      <td>7.565780</td>\n",
       "    </tr>\n",
       "    <tr>\n",
       "      <td>std</td>\n",
       "      <td>153.502302</td>\n",
       "      <td>97.422499</td>\n",
       "      <td>1713.984648</td>\n",
       "      <td>198.171422</td>\n",
       "      <td>0.267090</td>\n",
       "      <td>3.502733</td>\n",
       "    </tr>\n",
       "    <tr>\n",
       "      <td>min</td>\n",
       "      <td>-74215.000000</td>\n",
       "      <td>-11062.060000</td>\n",
       "      <td>12346.000000</td>\n",
       "      <td>-77183.600000</td>\n",
       "      <td>2010.000000</td>\n",
       "      <td>1.000000</td>\n",
       "    </tr>\n",
       "    <tr>\n",
       "      <td>25%</td>\n",
       "      <td>1.000000</td>\n",
       "      <td>1.250000</td>\n",
       "      <td>13956.000000</td>\n",
       "      <td>3.400000</td>\n",
       "      <td>2011.000000</td>\n",
       "      <td>5.000000</td>\n",
       "    </tr>\n",
       "    <tr>\n",
       "      <td>50%</td>\n",
       "      <td>3.000000</td>\n",
       "      <td>2.080000</td>\n",
       "      <td>15153.000000</td>\n",
       "      <td>9.840000</td>\n",
       "      <td>2011.000000</td>\n",
       "      <td>8.000000</td>\n",
       "    </tr>\n",
       "    <tr>\n",
       "      <td>75%</td>\n",
       "      <td>10.000000</td>\n",
       "      <td>4.130000</td>\n",
       "      <td>16794.000000</td>\n",
       "      <td>17.400000</td>\n",
       "      <td>2011.000000</td>\n",
       "      <td>11.000000</td>\n",
       "    </tr>\n",
       "    <tr>\n",
       "      <td>max</td>\n",
       "      <td>74215.000000</td>\n",
       "      <td>38970.000000</td>\n",
       "      <td>18287.000000</td>\n",
       "      <td>77183.600000</td>\n",
       "      <td>2011.000000</td>\n",
       "      <td>12.000000</td>\n",
       "    </tr>\n",
       "  </tbody>\n",
       "</table>\n",
       "</div>"
      ],
      "text/plain": [
       "            Quantity      UnitPrice     CustomerID    TotalAmount  \\\n",
       "count  534531.000000  534531.000000  401689.000000  534531.000000   \n",
       "mean        9.603232       4.635673   15289.649273      18.063938   \n",
       "std       153.502302      97.422499    1713.984648     198.171422   \n",
       "min    -74215.000000  -11062.060000   12346.000000  -77183.600000   \n",
       "25%         1.000000       1.250000   13956.000000       3.400000   \n",
       "50%         3.000000       2.080000   15153.000000       9.840000   \n",
       "75%        10.000000       4.130000   16794.000000      17.400000   \n",
       "max     74215.000000   38970.000000   18287.000000   77183.600000   \n",
       "\n",
       "         InvoiceYear   InvoiceMonth  \n",
       "count  534531.000000  534531.000000  \n",
       "mean     2010.922685       7.565780  \n",
       "std         0.267090       3.502733  \n",
       "min      2010.000000       1.000000  \n",
       "25%      2011.000000       5.000000  \n",
       "50%      2011.000000       8.000000  \n",
       "75%      2011.000000      11.000000  \n",
       "max      2011.000000      12.000000  "
      ]
     },
     "execution_count": 4,
     "metadata": {},
     "output_type": "execute_result"
    }
   ],
   "source": [
    "online.describe()"
   ]
  },
  {
   "cell_type": "code",
   "execution_count": 5,
   "metadata": {},
   "outputs": [
    {
     "data": {
      "text/plain": [
       "25762"
      ]
     },
     "execution_count": 5,
     "metadata": {},
     "output_type": "execute_result"
    }
   ],
   "source": [
    "# Total number of transactions\n",
    "len(online['InvoiceNo'].unique())"
   ]
  },
  {
   "cell_type": "code",
   "execution_count": 6,
   "metadata": {},
   "outputs": [
    {
     "data": {
      "text/plain": [
       "5688"
      ]
     },
     "execution_count": 6,
     "metadata": {},
     "output_type": "execute_result"
    }
   ],
   "source": [
    "# Number of transactions with anonymous customers \n",
    "len(online[online['CustomerID'].isnull()]['InvoiceNo'].unique())"
   ]
  },
  {
   "cell_type": "code",
   "execution_count": 7,
   "metadata": {},
   "outputs": [
    {
     "data": {
      "text/plain": [
       "4364"
      ]
     },
     "execution_count": 7,
     "metadata": {},
     "output_type": "execute_result"
    }
   ],
   "source": [
    "# Total numbers of customers - +1 for null users\n",
    "len(online['CustomerID'].unique())"
   ]
  },
  {
   "cell_type": "code",
   "execution_count": 8,
   "metadata": {},
   "outputs": [
    {
     "data": {
      "text/plain": [
       "9655735.064000003"
      ]
     },
     "execution_count": 8,
     "metadata": {},
     "output_type": "execute_result"
    }
   ],
   "source": [
    "# Total profit\n",
    "online['TotalAmount'].sum()"
   ]
  },
  {
   "cell_type": "code",
   "execution_count": 9,
   "metadata": {},
   "outputs": [
    {
     "data": {
      "text/plain": [
       "CustomerID\n",
       "14646.0    273692.86\n",
       "18102.0    256438.49\n",
       "17450.0    187482.17\n",
       "14911.0    131003.30\n",
       "12415.0    121993.61\n",
       "14156.0    112810.99\n",
       "17511.0     88021.70\n",
       "16684.0     65257.20\n",
       "13694.0     62405.66\n",
       "15311.0     59318.34\n",
       "14096.0     56581.09\n",
       "13089.0     54390.19\n",
       "15061.0     54172.58\n",
       "17949.0     52750.84\n",
       "15769.0     51823.72\n",
       "16029.0     50992.61\n",
       "14298.0     49889.54\n",
       "14088.0     49771.69\n",
       "17841.0     40013.31\n",
       "13798.0     36111.42\n",
       "Name: TotalAmount, dtype: float64"
      ]
     },
     "execution_count": 9,
     "metadata": {},
     "output_type": "execute_result"
    }
   ],
   "source": [
    "# Get top ranked ranked customers based on the total amount\n",
    "customers_amounts = online.groupby('CustomerID')['TotalAmount'].agg(np.sum).sort_values(ascending=False)\n",
    "customers_amounts.head(20)"
   ]
  },
  {
   "cell_type": "code",
   "execution_count": 10,
   "metadata": {
    "scrolled": true
   },
   "outputs": [
    {
     "data": {
      "text/plain": [
       "<matplotlib.axes._subplots.AxesSubplot at 0x22ee74e7608>"
      ]
     },
     "execution_count": 10,
     "metadata": {},
     "output_type": "execute_result"
    },
    {
     "data": {
      "image/png": "[encoded data removed]",
      "text/plain": [
       "<Figure size 432x288 with 1 Axes>"
      ]
     },
     "metadata": {
      "needs_background": "light"
     },
     "output_type": "display_data"
    }
   ],
   "source": [
    "customers_amounts.head(20).plot.bar()"
   ]
  },
  {
   "cell_type": "code",
   "execution_count": 11,
   "metadata": {
    "scrolled": true
   },
   "outputs": [
    {
     "data": {
      "text/plain": [
       "Description\n",
       "WORLD WAR 2 GLIDERS ASSTD DESIGNS     53751.0\n",
       "JUMBO BAG RED RETROSPOT               47104.0\n",
       "POPCORN HOLDER                        36334.0\n",
       "ASSORTED COLOUR BIRD ORNAMENT         36181.0\n",
       "PACK OF 72 RETROSPOT CAKE CASES       35999.0\n",
       "WHITE HANGING HEART T-LIGHT HOLDER    35189.0\n",
       "RABBIT NIGHT LIGHT                    30632.0\n",
       "MINI PAINT SET VINTAGE                26293.0\n",
       "PACK OF 12 LONDON TISSUES             26267.0\n",
       "PACK OF 60 PINK PAISLEY CAKE CASES    24686.0\n",
       "VICTORIAN GLASS HANGING T-LIGHT       23794.0\n",
       "BROCADE RING PURSE                    23053.0\n",
       "ASSORTED COLOURS SILK FAN             22955.0\n",
       "RED  HARMONICA IN BOX                 21818.0\n",
       "JUMBO BAG PINK POLKADOT               20973.0\n",
       "SMALL POPCORN HOLDER                  20092.0\n",
       "PAPER CHAIN KIT 50'S CHRISTMAS        18820.0\n",
       "LUNCH BAG RED RETROSPOT               18763.0\n",
       "60 TEATIME FAIRY CAKE CASES           17985.0\n",
       "CHARLOTTE BAG SUKI DESIGN             17977.0\n",
       "Name: Quantity, dtype: float64"
      ]
     },
     "execution_count": 11,
     "metadata": {},
     "output_type": "execute_result"
    }
   ],
   "source": [
    "# Frequently sold items by quantitiy\n",
    "gp_stockcode = online.groupby('Description')\n",
    "gp_stockcode_frq_quantitiy = gp_stockcode['Quantity'].agg(np.sum).sort_values(ascending=False)\n",
    "gp_stockcode_frq_quantitiy.head(20)"
   ]
  },
  {
   "cell_type": "code",
   "execution_count": 12,
   "metadata": {
    "scrolled": true
   },
   "outputs": [
    {
     "data": {
      "text/plain": [
       "<matplotlib.axes._subplots.AxesSubplot at 0x22ee89ab588>"
      ]
     },
     "execution_count": 12,
     "metadata": {},
     "output_type": "execute_result"
    },
    {
     "data": {
      "image/png": "[encoded data removed]",
      "text/plain": [
       "<Figure size 432x288 with 1 Axes>"
      ]
     },
     "metadata": {
      "needs_background": "light"
     },
     "output_type": "display_data"
    }
   ],
   "source": [
    "gp_stockcode_frq_quantitiy.head(20).plot.bar()"
   ]
  },
  {
   "cell_type": "code",
   "execution_count": 13,
   "metadata": {
    "scrolled": true
   },
   "outputs": [
    {
     "data": {
      "text/plain": [
       "Description\n",
       "DOTCOM POSTAGE                        205553.47\n",
       "REGENCY CAKESTAND 3 TIER              163443.24\n",
       "WHITE HANGING HEART T-LIGHT HOLDER     99259.27\n",
       "PARTY BUNTING                          97929.78\n",
       "JUMBO BAG RED RETROSPOT                91877.37\n",
       "RABBIT NIGHT LIGHT                     66656.75\n",
       "POSTAGE                                65792.64\n",
       "PAPER CHAIN KIT 50'S CHRISTMAS         63582.04\n",
       "ASSORTED COLOUR BIRD ORNAMENT          58610.29\n",
       "CHILLI LIGHTS                          53722.06\n",
       "SPOTTY BUNTING                         41748.92\n",
       "JUMBO BAG PINK POLKADOT                41546.08\n",
       "BLACK RECORD COVER FRAME               40596.96\n",
       "PICNIC BASKET WICKER 60 PIECES         39619.50\n",
       "SET OF 3 CAKE TINS PANTRY DESIGN       37363.94\n",
       "DOORMAT KEEP CALM AND COME IN          36466.09\n",
       "JAM MAKING SET WITH JARS               36020.09\n",
       "WOOD BLACK BOARD ANT WHITE FINISH      35727.72\n",
       "LUNCH BAG RED RETROSPOT                34868.43\n",
       "POPCORN HOLDER                         33969.46\n",
       "Name: TotalAmount, dtype: float64"
      ]
     },
     "execution_count": 13,
     "metadata": {},
     "output_type": "execute_result"
    }
   ],
   "source": [
    "# Frequently sold items by total amount\n",
    "gp_stockcode_frq_amount = gp_stockcode['TotalAmount'].agg(np.sum).sort_values(ascending=False)\n",
    "gp_stockcode_frq_amount.head(20)"
   ]
  },
  {
   "cell_type": "code",
   "execution_count": 14,
   "metadata": {
    "scrolled": true
   },
   "outputs": [
    {
     "data": {
      "text/plain": [
       "<matplotlib.axes._subplots.AxesSubplot at 0x22ee6470348>"
      ]
     },
     "execution_count": 14,
     "metadata": {},
     "output_type": "execute_result"
    },
    {
     "data": {
      "image/png": "[encoded data removed]",
      "text/plain": [
       "<Figure size 432x288 with 1 Axes>"
      ]
     },
     "metadata": {
      "needs_background": "light"
     },
     "output_type": "display_data"
    }
   ],
   "source": [
    "gp_stockcode_frq_amount.head(20).plot.bar()"
   ]
  },
  {
   "cell_type": "code",
   "execution_count": 15,
   "metadata": {
    "scrolled": true
   },
   "outputs": [
    {
     "data": {
      "text/plain": [
       "<pandas.core.groupby.generic.DataFrameGroupBy object at 0x0000022EDFF64308>"
      ]
     },
     "execution_count": 15,
     "metadata": {},
     "output_type": "execute_result"
    }
   ],
   "source": [
    "# Explore by month\n",
    "gp_month = online.sort_values('InvoiceDate').groupby(['InvoiceYear', 'InvoiceMonth'])\n",
    "gp_month"
   ]
  },
  {
   "cell_type": "code",
   "execution_count": 16,
   "metadata": {
    "scrolled": true
   },
   "outputs": [
    {
     "data": {
      "text/plain": [
       "InvoiceYear  InvoiceMonth\n",
       "2010.0       12.0            1996\n",
       "2011.0       1.0             1448\n",
       "             2.0             1383\n",
       "             3.0             1967\n",
       "             4.0             1743\n",
       "             5.0             2127\n",
       "             6.0             1979\n",
       "             7.0             1925\n",
       "             8.0             1733\n",
       "             9.0             2324\n",
       "             10.0            2627\n",
       "             11.0            3460\n",
       "             12.0            1011\n",
       "Name: InvoiceNo, dtype: int64"
      ]
     },
     "execution_count": 16,
     "metadata": {},
     "output_type": "execute_result"
    }
   ],
   "source": [
    "# Month number of invoices\n",
    "gp_month_invoices = gp_month['InvoiceNo'].unique().agg(np.size)\n",
    "gp_month_invoices"
   ]
  },
  {
   "cell_type": "code",
   "execution_count": 17,
   "metadata": {
    "scrolled": true
   },
   "outputs": [
    {
     "data": {
      "text/plain": [
       "<matplotlib.axes._subplots.AxesSubplot at 0x22edfd32808>"
      ]
     },
     "execution_count": 17,
     "metadata": {},
     "output_type": "execute_result"
    },
    {
     "data": {
      "image/png": "[encoded data removed]",
      "text/plain": [
       "<Figure size 432x288 with 1 Axes>"
      ]
     },
     "metadata": {
      "needs_background": "light"
     },
     "output_type": "display_data"
    }
   ],
   "source": [
    "gp_month_invoices.plot.bar()"
   ]
  },
  {
   "cell_type": "code",
   "execution_count": 18,
   "metadata": {
    "scrolled": true
   },
   "outputs": [
    {
     "data": {
      "text/plain": [
       "InvoiceYear  InvoiceMonth\n",
       "2010.0       12.0             733309.170\n",
       "2011.0       1.0              547434.990\n",
       "             2.0              491900.770\n",
       "             3.0              679162.330\n",
       "             4.0              489680.391\n",
       "             5.0              703144.660\n",
       "             6.0              682007.280\n",
       "             7.0              676652.091\n",
       "             8.0              679931.960\n",
       "             9.0             1015992.552\n",
       "             10.0            1067507.230\n",
       "             11.0            1457583.670\n",
       "             12.0             431427.970\n",
       "Name: TotalAmount, dtype: float64"
      ]
     },
     "execution_count": 18,
     "metadata": {},
     "output_type": "execute_result"
    }
   ],
   "source": [
    "# Month total amounts\n",
    "gp_month_frq_amount= gp_month['TotalAmount'].agg(np.sum)\n",
    "gp_month_frq_amount"
   ]
  },
  {
   "cell_type": "code",
   "execution_count": 19,
   "metadata": {},
   "outputs": [
    {
     "data": {
      "text/plain": [
       "<matplotlib.axes._subplots.AxesSubplot at 0x22edac35b08>"
      ]
     },
     "execution_count": 19,
     "metadata": {},
     "output_type": "execute_result"
    },
    {
     "data": {
      "image/png": "[encoded data removed]",
      "text/plain": [
       "<Figure size 432x288 with 1 Axes>"
      ]
     },
     "metadata": {
      "needs_background": "light"
     },
     "output_type": "display_data"
    }
   ],
   "source": [
    "gp_month_frq_amount.plot.bar()"
   ]
  },
  {
   "cell_type": "code",
   "execution_count": 20,
   "metadata": {},
   "outputs": [
    {
     "data": {
      "text/plain": [
       "Country\n",
       "United Kingdom          8.114621e+06\n",
       "Netherlands             2.786464e+05\n",
       "EIRE                    2.610493e+05\n",
       "Germany                 2.185575e+05\n",
       "France                  1.959105e+05\n",
       "Australia               1.353302e+05\n",
       "Switzerland             5.589583e+04\n",
       "Spain                   5.411026e+04\n",
       "Belgium                 4.041901e+04\n",
       "Sweden                  3.637415e+04\n",
       "Norway                  3.490813e+04\n",
       "Japan                   3.461606e+04\n",
       "Portugal                2.927234e+04\n",
       "Finland                 2.222669e+04\n",
       "Channel Islands         1.995054e+04\n",
       "Denmark                 1.866518e+04\n",
       "Italy                   1.650603e+04\n",
       "Cyprus                  1.279131e+04\n",
       "Austria                 1.014928e+04\n",
       "Hong Kong               1.003784e+04\n",
       "Singapore               9.054690e+03\n",
       "Israel                  7.867420e+03\n",
       "Poland                  7.193340e+03\n",
       "Unspecified             4.746650e+03\n",
       "Greece                  4.644820e+03\n",
       "Iceland                 4.299800e+03\n",
       "Canada                  3.599680e+03\n",
       "Malta                   2.503190e+03\n",
       "United Arab Emirates    1.877080e+03\n",
       "USA                     1.730920e+03\n",
       "Lebanon                 1.693880e+03\n",
       "Lithuania               1.661060e+03\n",
       "European Community      1.291750e+03\n",
       "Brazil                  1.143600e+03\n",
       "RSA                     1.002310e+03\n",
       "Czech Republic          7.077200e+02\n",
       "Bahrain                 5.484000e+02\n",
       "Saudi Arabia            1.311700e+02\n",
       "Name: TotalAmount, dtype: float64"
      ]
     },
     "execution_count": 20,
     "metadata": {},
     "output_type": "execute_result"
    }
   ],
   "source": [
    "####################### Explore By Countries ###############\n",
    "gp_country = online.groupby('Country')\n",
    "# Order countries by total amount\n",
    "gp_country['TotalAmount'].agg(np.sum).sort_values(ascending=False)"
   ]
  },
  {
   "cell_type": "code",
   "execution_count": 21,
   "metadata": {},
   "outputs": [
    {
     "data": {
      "text/plain": [
       "Country\n",
       "United Kingdom          23332\n",
       "Germany                   599\n",
       "France                    458\n",
       "EIRE                      358\n",
       "Belgium                   118\n",
       "Spain                     104\n",
       "Netherlands               100\n",
       "Switzerland                73\n",
       "Portugal                   71\n",
       "Australia                  69\n",
       "Italy                      55\n",
       "Finland                    47\n",
       "Sweden                     46\n",
       "Norway                     40\n",
       "Channel Islands            32\n",
       "Japan                      28\n",
       "Poland                     24\n",
       "Denmark                    21\n",
       "Cyprus                     20\n",
       "Austria                    19\n",
       "Hong Kong                  15\n",
       "Unspecified                13\n",
       "Malta                      10\n",
       "Singapore                  10\n",
       "Israel                      9\n",
       "Iceland                     7\n",
       "USA                         7\n",
       "Greece                      6\n",
       "Canada                      6\n",
       "European Community          5\n",
       "Czech Republic              5\n",
       "Lithuania                   4\n",
       "Bahrain                     4\n",
       "United Arab Emirates        3\n",
       "Saudi Arabia                2\n",
       "Lebanon                     1\n",
       "RSA                         1\n",
       "Brazil                      1\n",
       "Name: InvoiceNo, dtype: int64"
      ]
     },
     "execution_count": 21,
     "metadata": {},
     "output_type": "execute_result"
    }
   ],
   "source": [
    "# Order countries by number of invoices\n",
    "gp_country['InvoiceNo'].unique().agg(np.size).sort_values(ascending=False)"
   ]
  },
  {
   "cell_type": "code",
   "execution_count": 22,
   "metadata": {
    "scrolled": true
   },
   "outputs": [
    {
     "data": {
      "text/plain": [
       "Country\n",
       "United Kingdom          3944\n",
       "Germany                   94\n",
       "France                    87\n",
       "Spain                     31\n",
       "Belgium                   25\n",
       "Switzerland               22\n",
       "Portugal                  20\n",
       "Italy                     15\n",
       "Finland                   12\n",
       "Austria                   11\n",
       "Norway                    10\n",
       "Netherlands                9\n",
       "Australia                  9\n",
       "Channel Islands            9\n",
       "Denmark                    9\n",
       "Cyprus                     8\n",
       "Sweden                     8\n",
       "Japan                      8\n",
       "Poland                     6\n",
       "Unspecified                5\n",
       "Israel                     5\n",
       "Greece                     4\n",
       "USA                        4\n",
       "EIRE                       4\n",
       "Canada                     4\n",
       "Bahrain                    3\n",
       "United Arab Emirates       2\n",
       "Malta                      2\n",
       "Singapore                  1\n",
       "Brazil                     1\n",
       "Iceland                    1\n",
       "Saudi Arabia               1\n",
       "Hong Kong                  1\n",
       "RSA                        1\n",
       "European Community         1\n",
       "Lithuania                  1\n",
       "Lebanon                    1\n",
       "Czech Republic             1\n",
       "Name: CustomerID, dtype: int64"
      ]
     },
     "execution_count": 22,
     "metadata": {},
     "output_type": "execute_result"
    }
   ],
   "source": [
    "# Order countries by number of customers\n",
    "gp_country['CustomerID'].unique().agg(np.size).sort_values(ascending=False)"
   ]
  },
  {
   "cell_type": "code",
   "execution_count": 23,
   "metadata": {
    "scrolled": true
   },
   "outputs": [
    {
     "data": {
      "text/plain": [
       "Country\n",
       "United Kingdom    1405968.84\n",
       "EIRE                12961.00\n",
       "Hong Kong           10037.84\n",
       "Unspecified          2082.72\n",
       "Israel                913.57\n",
       "France                691.06\n",
       "Switzerland           645.95\n",
       "Portugal              307.21\n",
       "Bahrain                 0.00\n",
       "Name: TotalAmount, dtype: float64"
      ]
     },
     "execution_count": 23,
     "metadata": {},
     "output_type": "execute_result"
    }
   ],
   "source": [
    "# Work on undefined customers\n",
    "gp_country_null = online[online['CustomerID'].isnull()].groupby('Country')\n",
    "# Order countries by total amount [For the undefined users]\n",
    "gp_country_null['TotalAmount'].agg(np.sum).sort_values(ascending=False)"
   ]
  },
  {
   "cell_type": "code",
   "execution_count": 24,
   "metadata": {
    "scrolled": true
   },
   "outputs": [
    {
     "data": {
      "text/plain": [
       "Country\n",
       "United Kingdom    3601\n",
       "EIRE                41\n",
       "Hong Kong           15\n",
       "Unspecified          5\n",
       "Switzerland          3\n",
       "Israel               3\n",
       "France               3\n",
       "Bahrain              2\n",
       "Portugal             1\n",
       "Name: InvoiceNo, dtype: int64"
      ]
     },
     "execution_count": 24,
     "metadata": {},
     "output_type": "execute_result"
    }
   ],
   "source": [
    "# Order countries by number of invoices [For the undefined users]\n",
    "gp_country_null['InvoiceNo'].unique().agg(np.size).sort_values(ascending=False)"
   ]
  },
  {
   "cell_type": "code",
   "execution_count": 25,
   "metadata": {},
   "outputs": [
    {
     "data": {
      "text/plain": [
       "CustomerID\n",
       "18102.0    256438.49\n",
       "17450.0    187482.17\n",
       "17511.0     88021.70\n",
       "16684.0     65257.20\n",
       "13694.0     62405.66\n",
       "15311.0     59318.34\n",
       "14096.0     56581.09\n",
       "13089.0     54390.19\n",
       "15061.0     54172.58\n",
       "17949.0     52750.84\n",
       "15769.0     51823.72\n",
       "16029.0     50992.61\n",
       "14298.0     49889.54\n",
       "14088.0     49771.69\n",
       "17841.0     40013.31\n",
       "13798.0     36111.42\n",
       "16422.0     33805.69\n",
       "12931.0     33462.81\n",
       "16013.0     33366.25\n",
       "15838.0     33350.76\n",
       "Name: TotalAmount, dtype: float64"
      ]
     },
     "execution_count": 25,
     "metadata": {},
     "output_type": "execute_result"
    }
   ],
   "source": [
    "# Explore more info about United Kingdom invoices because it has the max total amount\n",
    "# Get United Kingdom top ranked customers based on the total amount\n",
    "uk_customers_amounts = online[online['Country']=='United Kingdom'].groupby('CustomerID')['TotalAmount'].agg(np.sum).sort_values(ascending=False)\n",
    "uk_customers_amounts.head(20)"
   ]
  },
  {
   "cell_type": "code",
   "execution_count": 26,
   "metadata": {},
   "outputs": [
    {
     "data": {
      "text/plain": [
       "<matplotlib.axes._subplots.AxesSubplot at 0x22ee8b8c808>"
      ]
     },
     "execution_count": 26,
     "metadata": {},
     "output_type": "execute_result"
    },
    {
     "data": {
      "image/png": "[encoded data removed]",
      "text/plain": [
       "<Figure size 432x288 with 1 Axes>"
      ]
     },
     "metadata": {
      "needs_background": "light"
     },
     "output_type": "display_data"
    }
   ],
   "source": [
    "uk_customers_amounts.head(20).plot.bar()"
   ]
  },
  {
   "cell_type": "code",
   "execution_count": 27,
   "metadata": {
    "scrolled": true
   },
   "outputs": [
    {
     "data": {
      "text/plain": [
       "Description\n",
       "WORLD WAR 2 GLIDERS ASSTD DESIGNS      48230.0\n",
       "JUMBO BAG RED RETROSPOT                42908.0\n",
       "POPCORN HOLDER                         34365.0\n",
       "ASSORTED COLOUR BIRD ORNAMENT          33479.0\n",
       "WHITE HANGING HEART T-LIGHT HOLDER     33065.0\n",
       "PACK OF 12 LONDON TISSUES              25259.0\n",
       "PACK OF 72 RETROSPOT CAKE CASES        24686.0\n",
       "VICTORIAN GLASS HANGING T-LIGHT        23182.0\n",
       "BROCADE RING PURSE                     22801.0\n",
       "PACK OF 60 PINK PAISLEY CAKE CASES     20269.0\n",
       "ASSORTED COLOURS SILK FAN              20195.0\n",
       "JUMBO BAG PINK POLKADOT                18900.0\n",
       "SMALL POPCORN HOLDER                   18539.0\n",
       "PAPER CHAIN KIT 50'S CHRISTMAS         18115.0\n",
       "RED  HARMONICA IN BOX                  17754.0\n",
       "HEART OF WICKER SMALL                  17180.0\n",
       "PARTY BUNTING                          16633.0\n",
       "JUMBO BAG STRAWBERRY                   15954.0\n",
       "CHARLOTTE BAG SUKI DESIGN              15949.0\n",
       "COLOUR GLASS T-LIGHT HOLDER HANGING    15400.0\n",
       "Name: Quantity, dtype: float64"
      ]
     },
     "execution_count": 27,
     "metadata": {},
     "output_type": "execute_result"
    }
   ],
   "source": [
    "# United Kingdom frequently sold items by quantitiy\n",
    "uk_gp_stockcode = online[online['Country']=='United Kingdom'].groupby('Description')\n",
    "uk_gp_stockcode_frq_quantitiy = uk_gp_stockcode['Quantity'].agg(np.sum).sort_values(ascending=False)\n",
    "uk_gp_stockcode_frq_quantitiy.head(20)"
   ]
  },
  {
   "cell_type": "code",
   "execution_count": 28,
   "metadata": {},
   "outputs": [
    {
     "data": {
      "text/plain": [
       "<matplotlib.axes._subplots.AxesSubplot at 0x22ee6e69a08>"
      ]
     },
     "execution_count": 28,
     "metadata": {},
     "output_type": "execute_result"
    },
    {
     "data": {
      "image/png": "[encoded data removed]",
      "text/plain": [
       "<Figure size 432x288 with 1 Axes>"
      ]
     },
     "metadata": {
      "needs_background": "light"
     },
     "output_type": "display_data"
    }
   ],
   "source": [
    "uk_gp_stockcode_frq_quantitiy.head(20).plot.bar()"
   ]
  },
  {
   "cell_type": "code",
   "execution_count": 29,
   "metadata": {},
   "outputs": [
    {
     "data": {
      "text/plain": [
       "Description\n",
       "DOTCOM POSTAGE                        205553.47\n",
       "REGENCY CAKESTAND 3 TIER              133440.69\n",
       "WHITE HANGING HEART T-LIGHT HOLDER     93543.87\n",
       "PARTY BUNTING                          92128.53\n",
       "JUMBO BAG RED RETROSPOT                84037.78\n",
       "PAPER CHAIN KIT 50'S CHRISTMAS         61678.29\n",
       "ASSORTED COLOUR BIRD ORNAMENT          54312.71\n",
       "CHILLI LIGHTS                          52940.86\n",
       "PICNIC BASKET WICKER 60 PIECES         39619.50\n",
       "BLACK RECORD COVER FRAME               39387.00\n",
       "RABBIT NIGHT LIGHT                     37869.20\n",
       "JUMBO BAG PINK POLKADOT                37681.24\n",
       "SPOTTY BUNTING                         36323.57\n",
       "DOORMAT KEEP CALM AND COME IN          35370.04\n",
       "WOOD BLACK BOARD ANT WHITE FINISH      34829.42\n",
       "POPCORN HOLDER                         32425.81\n",
       "HOT WATER BOTTLE TEA AND SYMPATHY      31857.39\n",
       "VICTORIAN GLASS HANGING T-LIGHT        31608.17\n",
       "HEART OF WICKER SMALL                  30857.45\n",
       "JUMBO BAG STRAWBERRY                   30340.90\n",
       "Name: TotalAmount, dtype: float64"
      ]
     },
     "execution_count": 29,
     "metadata": {},
     "output_type": "execute_result"
    }
   ],
   "source": [
    "# Frequently sold items by total amount\n",
    "uk_gp_stockcode_frq_amount = uk_gp_stockcode['TotalAmount'].agg(np.sum).sort_values(ascending=False)\n",
    "uk_gp_stockcode_frq_amount.head(20)"
   ]
  },
  {
   "cell_type": "code",
   "execution_count": 30,
   "metadata": {},
   "outputs": [
    {
     "data": {
      "text/plain": [
       "<matplotlib.axes._subplots.AxesSubplot at 0x22ee44f06c8>"
      ]
     },
     "execution_count": 30,
     "metadata": {},
     "output_type": "execute_result"
    },
    {
     "data": {
      "image/png": "[encoded data removed]",
      "text/plain": [
       "<Figure size 432x288 with 1 Axes>"
      ]
     },
     "metadata": {
      "needs_background": "light"
     },
     "output_type": "display_data"
    }
   ],
   "source": [
    "uk_gp_stockcode_frq_amount.head(20).plot.bar()"
   ]
  },
  {
   "cell_type": "code",
   "execution_count": 31,
   "metadata": {
    "scrolled": true
   },
   "outputs": [
    {
     "data": {
      "text/plain": [
       "InvoiceYear  InvoiceMonth\n",
       "2010.0       12.0            1859\n",
       "2011.0       1.0             1301\n",
       "             2.0             1249\n",
       "             3.0             1786\n",
       "             4.0             1621\n",
       "             5.0             1943\n",
       "             6.0             1800\n",
       "             7.0             1762\n",
       "             8.0             1544\n",
       "             9.0             2087\n",
       "             10.0            2351\n",
       "             11.0            3111\n",
       "             12.0             918\n",
       "Name: InvoiceNo, dtype: int64"
      ]
     },
     "execution_count": 31,
     "metadata": {},
     "output_type": "execute_result"
    }
   ],
   "source": [
    "# Explore United Kingdom by month\n",
    "uk_gp_month = online[online['Country']=='United Kingdom'].groupby(['InvoiceYear', 'InvoiceMonth'])\n",
    "# United Kingdom By Month number of invoices\n",
    "uk_gp_month_invoices = uk_gp_month['InvoiceNo'].unique().agg(np.size)\n",
    "uk_gp_month_invoices"
   ]
  },
  {
   "cell_type": "code",
   "execution_count": 32,
   "metadata": {},
   "outputs": [
    {
     "data": {
      "text/plain": [
       "<matplotlib.axes._subplots.AxesSubplot at 0x22ee25b4c88>"
      ]
     },
     "execution_count": 32,
     "metadata": {},
     "output_type": "execute_result"
    },
    {
     "data": {
      "image/png": "[encoded data removed]",
      "text/plain": [
       "<Figure size 432x288 with 1 Axes>"
      ]
     },
     "metadata": {
      "needs_background": "light"
     },
     "output_type": "display_data"
    }
   ],
   "source": [
    "uk_gp_month_invoices.plot.bar()"
   ]
  },
  {
   "cell_type": "code",
   "execution_count": 33,
   "metadata": {},
   "outputs": [
    {
     "data": {
      "text/plain": [
       "InvoiceYear  InvoiceMonth\n",
       "2010.0       12.0             663651.580\n",
       "2011.0       1.0              423192.210\n",
       "             2.0              403031.810\n",
       "             3.0              556537.530\n",
       "             4.0              439534.671\n",
       "             5.0              584113.310\n",
       "             6.0              547160.620\n",
       "             7.0              561215.681\n",
       "             8.0              536835.570\n",
       "             9.0              858884.922\n",
       "             10.0             874491.910\n",
       "             11.0            1279235.910\n",
       "             12.0             386735.240\n",
       "Name: TotalAmount, dtype: float64"
      ]
     },
     "execution_count": 33,
     "metadata": {},
     "output_type": "execute_result"
    }
   ],
   "source": [
    "# United Kingdom By Month total amounts\n",
    "uk_gp_month_frq_amount= uk_gp_month['TotalAmount'].agg(np.sum)\n",
    "uk_gp_month_frq_amount"
   ]
  },
  {
   "cell_type": "code",
   "execution_count": 34,
   "metadata": {},
   "outputs": [
    {
     "data": {
      "text/plain": [
       "<matplotlib.axes._subplots.AxesSubplot at 0x22ee3a5bb88>"
      ]
     },
     "execution_count": 34,
     "metadata": {},
     "output_type": "execute_result"
    },
    {
     "data": {
      "image/png": "[encoded data removed]",
      "text/plain": [
       "<Figure size 432x288 with 1 Axes>"
      ]
     },
     "metadata": {
      "needs_background": "light"
     },
     "output_type": "display_data"
    }
   ],
   "source": [
    "uk_gp_month_frq_amount.plot.bar()"
   ]
  },
  {
   "cell_type": "code",
   "execution_count": 35,
   "metadata": {},
   "outputs": [
    {
     "data": {
      "text/plain": [
       "1443"
      ]
     },
     "execution_count": 35,
     "metadata": {},
     "output_type": "execute_result"
    }
   ],
   "source": [
    "## Part2. Get Association Rules\n",
    "#################################\n",
    "#set null description = stockCode\n",
    "len(online[online['Description'].isnull()])"
   ]
  },
  {
   "cell_type": "code",
   "execution_count": 36,
   "metadata": {},
   "outputs": [
    {
     "name": "stderr",
     "output_type": "stream",
     "text": [
      "C:\\Users\\maris\\Anaconda3\\lib\\site-packages\\ipykernel_launcher.py:2: SettingWithCopyWarning: \n",
      "A value is trying to be set on a copy of a slice from a DataFrame\n",
      "\n",
      "See the caveats in the documentation: http://pandas.pydata.org/pandas-docs/stable/user_guide/indexing.html#returning-a-view-versus-a-copy\n",
      "  \n"
     ]
    }
   ],
   "source": [
    "for i, d in online[online['Description'].isnull()].iterrows():\n",
    "    online['Description'][i] = \"Code-\" + str(d['StockCode'])"
   ]
  },
  {
   "cell_type": "code",
   "execution_count": 37,
   "metadata": {},
   "outputs": [
    {
     "data": {
      "text/plain": [
       "1443"
      ]
     },
     "execution_count": 37,
     "metadata": {},
     "output_type": "execute_result"
    }
   ],
   "source": [
    "len(online[online['Description']==online['StockCode'].map(lambda x: \"Code-\"+str(x))])"
   ]
  },
  {
   "cell_type": "code",
   "execution_count": 38,
   "metadata": {},
   "outputs": [],
   "source": [
    "# Set transactions\n",
    "gp_invoiceno = online.groupby('InvoiceNo')\n",
    "transactions = []\n",
    "for name,group in gp_invoiceno:\n",
    "    transactions.append(list(group['Description'].map(str)))"
   ]
  },
  {
   "cell_type": "code",
   "execution_count": 39,
   "metadata": {
    "scrolled": true
   },
   "outputs": [
    {
     "name": "stdout",
     "output_type": "stream",
     "text": [
      "Requirement already satisfied: apyori in c:\\users\\maris\\anaconda3\\lib\\site-packages (1.1.2)\n"
     ]
    }
   ],
   "source": [
    "# Training Apriori on the dataset\n",
    "# Needs to import https://pypi.python.org/pypi/apyori/1.0.0\n",
    "!pip install apyori\n"
   ]
  },
  {
   "cell_type": "code",
   "execution_count": 40,
   "metadata": {},
   "outputs": [],
   "source": [
    "from apyori import apriori\n",
    "rules = apriori(transactions, min_support = 0.005, min_confidence = 0.2, min_lift = 3, min_length = 2)\n",
    "# Get the results\n",
    "results = list(rules) "
   ]
  },
  {
   "cell_type": "code",
   "execution_count": 41,
   "metadata": {},
   "outputs": [
    {
     "data": {
      "text/html": [
       "<div>\n",
       "<style scoped>\n",
       "    .dataframe tbody tr th:only-of-type {\n",
       "        vertical-align: middle;\n",
       "    }\n",
       "\n",
       "    .dataframe tbody tr th {\n",
       "        vertical-align: top;\n",
       "    }\n",
       "\n",
       "    .dataframe thead th {\n",
       "        text-align: right;\n",
       "    }\n",
       "</style>\n",
       "<table border=\"1\" class=\"dataframe\">\n",
       "  <thead>\n",
       "    <tr style=\"text-align: right;\">\n",
       "      <th></th>\n",
       "      <th>GeneralRules</th>\n",
       "      <th>LeftRules</th>\n",
       "      <th>RightRules</th>\n",
       "      <th>Support</th>\n",
       "      <th>Confidence</th>\n",
       "      <th>Lift</th>\n",
       "    </tr>\n",
       "  </thead>\n",
       "  <tbody>\n",
       "    <tr>\n",
       "      <td>4625</td>\n",
       "      <td>HERB MARKER MINT _&amp;&amp;_ HERB MARKER THYME _&amp;&amp;_ H...</td>\n",
       "      <td>HERB MARKER CHIVES</td>\n",
       "      <td>HERB MARKER MINT _&amp;&amp;_ HERB MARKER PARSLEY _&amp;&amp;_...</td>\n",
       "      <td>0.006560</td>\n",
       "      <td>0.808612</td>\n",
       "      <td>111.997170</td>\n",
       "    </tr>\n",
       "    <tr>\n",
       "      <td>4347</td>\n",
       "      <td>HERB MARKER MINT _&amp;&amp;_ HERB MARKER PARSLEY _&amp;&amp;_...</td>\n",
       "      <td>HERB MARKER CHIVES</td>\n",
       "      <td>HERB MARKER MINT _&amp;&amp;_ HERB MARKER PARSLEY _&amp;&amp;_...</td>\n",
       "      <td>0.006715</td>\n",
       "      <td>0.827751</td>\n",
       "      <td>109.920239</td>\n",
       "    </tr>\n",
       "    <tr>\n",
       "      <td>4346</td>\n",
       "      <td>HERB MARKER MINT _&amp;&amp;_ HERB MARKER PARSLEY _&amp;&amp;_...</td>\n",
       "      <td>HERB MARKER CHIVES</td>\n",
       "      <td>HERB MARKER MINT _&amp;&amp;_ HERB MARKER PARSLEY _&amp;&amp;_...</td>\n",
       "      <td>0.006754</td>\n",
       "      <td>0.832536</td>\n",
       "      <td>109.427497</td>\n",
       "    </tr>\n",
       "    <tr>\n",
       "      <td>4349</td>\n",
       "      <td>HERB MARKER THYME _&amp;&amp;_ HERB MARKER PARSLEY _&amp;&amp;...</td>\n",
       "      <td>HERB MARKER CHIVES</td>\n",
       "      <td>HERB MARKER PARSLEY _&amp;&amp;_ HERB MARKER THYME _&amp;&amp;...</td>\n",
       "      <td>0.006909</td>\n",
       "      <td>0.851675</td>\n",
       "      <td>108.082966</td>\n",
       "    </tr>\n",
       "    <tr>\n",
       "      <td>4348</td>\n",
       "      <td>HERB MARKER MINT _&amp;&amp;_ HERB MARKER THYME _&amp;&amp;_ H...</td>\n",
       "      <td>HERB MARKER CHIVES</td>\n",
       "      <td>HERB MARKER MINT _&amp;&amp;_ HERB MARKER THYME _&amp;&amp;_ H...</td>\n",
       "      <td>0.006638</td>\n",
       "      <td>0.818182</td>\n",
       "      <td>106.994924</td>\n",
       "    </tr>\n",
       "    <tr>\n",
       "      <td>3173</td>\n",
       "      <td>HERB MARKER MINT _&amp;&amp;_ HERB MARKER PARSLEY _&amp;&amp;_...</td>\n",
       "      <td>HERB MARKER CHIVES</td>\n",
       "      <td>HERB MARKER MINT _&amp;&amp;_ HERB MARKER PARSLEY</td>\n",
       "      <td>0.007103</td>\n",
       "      <td>0.875598</td>\n",
       "      <td>106.401688</td>\n",
       "    </tr>\n",
       "    <tr>\n",
       "      <td>2323</td>\n",
       "      <td>SET/6 COLLAGE PAPER PLATES _&amp;&amp;_ SET/6 COLLAGE ...</td>\n",
       "      <td>SET/6 COLLAGE PAPER CUPS</td>\n",
       "      <td>SET/6 COLLAGE PAPER PLATES</td>\n",
       "      <td>0.006094</td>\n",
       "      <td>0.887006</td>\n",
       "      <td>106.283905</td>\n",
       "    </tr>\n",
       "    <tr>\n",
       "      <td>3177</td>\n",
       "      <td>HERB MARKER THYME _&amp;&amp;_ HERB MARKER PARSLEY _&amp;&amp;...</td>\n",
       "      <td>HERB MARKER CHIVES</td>\n",
       "      <td>HERB MARKER PARSLEY _&amp;&amp;_ HERB MARKER THYME</td>\n",
       "      <td>0.007103</td>\n",
       "      <td>0.875598</td>\n",
       "      <td>105.902150</td>\n",
       "    </tr>\n",
       "    <tr>\n",
       "      <td>3175</td>\n",
       "      <td>HERB MARKER MINT _&amp;&amp;_ HERB MARKER CHIVES  _&amp;&amp;_...</td>\n",
       "      <td>HERB MARKER CHIVES</td>\n",
       "      <td>HERB MARKER MINT _&amp;&amp;_ HERB MARKER THYME</td>\n",
       "      <td>0.006832</td>\n",
       "      <td>0.842105</td>\n",
       "      <td>105.312213</td>\n",
       "    </tr>\n",
       "    <tr>\n",
       "      <td>3176</td>\n",
       "      <td>HERB MARKER PARSLEY _&amp;&amp;_ HERB MARKER CHIVES  _...</td>\n",
       "      <td>HERB MARKER CHIVES</td>\n",
       "      <td>HERB MARKER PARSLEY _&amp;&amp;_ HERB MARKER ROSEMARY</td>\n",
       "      <td>0.007103</td>\n",
       "      <td>0.875598</td>\n",
       "      <td>104.917013</td>\n",
       "    </tr>\n",
       "    <tr>\n",
       "      <td>1866</td>\n",
       "      <td>PACK OF 6 SKULL PAPER CUPS _&amp;&amp;_ PACK OF 6 SKUL...</td>\n",
       "      <td>PACK OF 6 SKULL PAPER CUPS</td>\n",
       "      <td>PACK OF 6 SKULL PAPER PLATES</td>\n",
       "      <td>0.005201</td>\n",
       "      <td>0.779070</td>\n",
       "      <td>104.533309</td>\n",
       "    </tr>\n",
       "    <tr>\n",
       "      <td>3174</td>\n",
       "      <td>HERB MARKER MINT _&amp;&amp;_ HERB MARKER CHIVES  _&amp;&amp;_...</td>\n",
       "      <td>HERB MARKER CHIVES</td>\n",
       "      <td>HERB MARKER MINT _&amp;&amp;_ HERB MARKER ROSEMARY</td>\n",
       "      <td>0.006871</td>\n",
       "      <td>0.846890</td>\n",
       "      <td>102.913108</td>\n",
       "    </tr>\n",
       "    <tr>\n",
       "      <td>541</td>\n",
       "      <td>DOLLY GIRL CHILDRENS CUP _&amp;&amp;_ DOLLY GIRL CHILD...</td>\n",
       "      <td>DOLLY GIRL CHILDRENS BOWL</td>\n",
       "      <td>DOLLY GIRL CHILDRENS CUP</td>\n",
       "      <td>0.005978</td>\n",
       "      <td>0.789744</td>\n",
       "      <td>102.754416</td>\n",
       "    </tr>\n",
       "    <tr>\n",
       "      <td>2478</td>\n",
       "      <td>DOTCOM POSTAGE _&amp;&amp;_ BEADED CRYSTAL HEART GREEN...</td>\n",
       "      <td>BEADED CRYSTAL HEART GREEN ON STICK</td>\n",
       "      <td>BEADED CRYSTAL HEART PINK ON STICK _&amp;&amp;_ DOTCOM...</td>\n",
       "      <td>0.005124</td>\n",
       "      <td>0.785714</td>\n",
       "      <td>102.230159</td>\n",
       "    </tr>\n",
       "    <tr>\n",
       "      <td>3178</td>\n",
       "      <td>HERB MARKER THYME _&amp;&amp;_ HERB MARKER CHIVES  _&amp;&amp;...</td>\n",
       "      <td>HERB MARKER CHIVES</td>\n",
       "      <td>HERB MARKER THYME _&amp;&amp;_ HERB MARKER ROSEMARY</td>\n",
       "      <td>0.007065</td>\n",
       "      <td>0.870813</td>\n",
       "      <td>101.510836</td>\n",
       "    </tr>\n",
       "    <tr>\n",
       "      <td>189</td>\n",
       "      <td>BEADED CRYSTAL HEART GREEN ON STICK _&amp;&amp;_ BEADE...</td>\n",
       "      <td>BEADED CRYSTAL HEART GREEN ON STICK</td>\n",
       "      <td>BEADED CRYSTAL HEART PINK ON STICK</td>\n",
       "      <td>0.005201</td>\n",
       "      <td>0.797619</td>\n",
       "      <td>101.222965</td>\n",
       "    </tr>\n",
       "    <tr>\n",
       "      <td>500</td>\n",
       "      <td>CHRISTMAS TREE HEART DECORATION _&amp;&amp;_ CHRISTMAS...</td>\n",
       "      <td>CHRISTMAS TREE HEART DECORATION</td>\n",
       "      <td>CHRISTMAS TREE STAR DECORATION</td>\n",
       "      <td>0.005434</td>\n",
       "      <td>0.773481</td>\n",
       "      <td>100.638428</td>\n",
       "    </tr>\n",
       "    <tr>\n",
       "      <td>943</td>\n",
       "      <td>HERB MARKER THYME _&amp;&amp;_ HERB MARKER ROSEMARY</td>\n",
       "      <td>HERB MARKER ROSEMARY</td>\n",
       "      <td>HERB MARKER THYME</td>\n",
       "      <td>0.008579</td>\n",
       "      <td>0.920833</td>\n",
       "      <td>100.094972</td>\n",
       "    </tr>\n",
       "    <tr>\n",
       "      <td>935</td>\n",
       "      <td>HERB MARKER PARSLEY _&amp;&amp;_ HERB MARKER CHIVES</td>\n",
       "      <td>HERB MARKER CHIVES</td>\n",
       "      <td>HERB MARKER PARSLEY</td>\n",
       "      <td>0.007492</td>\n",
       "      <td>0.923445</td>\n",
       "      <td>99.957099</td>\n",
       "    </tr>\n",
       "    <tr>\n",
       "      <td>3182</td>\n",
       "      <td>HERB MARKER PARSLEY _&amp;&amp;_ HERB MARKER THYME _&amp;&amp;...</td>\n",
       "      <td>HERB MARKER PARSLEY</td>\n",
       "      <td>HERB MARKER THYME _&amp;&amp;_ HERB MARKER ROSEMARY</td>\n",
       "      <td>0.007880</td>\n",
       "      <td>0.852941</td>\n",
       "      <td>99.427469</td>\n",
       "    </tr>\n",
       "  </tbody>\n",
       "</table>\n",
       "</div>"
      ],
      "text/plain": [
       "                                           GeneralRules  \\\n",
       "4625  HERB MARKER MINT _&&_ HERB MARKER THYME _&&_ H...   \n",
       "4347  HERB MARKER MINT _&&_ HERB MARKER PARSLEY _&&_...   \n",
       "4346  HERB MARKER MINT _&&_ HERB MARKER PARSLEY _&&_...   \n",
       "4349  HERB MARKER THYME _&&_ HERB MARKER PARSLEY _&&...   \n",
       "4348  HERB MARKER MINT _&&_ HERB MARKER THYME _&&_ H...   \n",
       "3173  HERB MARKER MINT _&&_ HERB MARKER PARSLEY _&&_...   \n",
       "2323  SET/6 COLLAGE PAPER PLATES _&&_ SET/6 COLLAGE ...   \n",
       "3177  HERB MARKER THYME _&&_ HERB MARKER PARSLEY _&&...   \n",
       "3175  HERB MARKER MINT _&&_ HERB MARKER CHIVES  _&&_...   \n",
       "3176  HERB MARKER PARSLEY _&&_ HERB MARKER CHIVES  _...   \n",
       "1866  PACK OF 6 SKULL PAPER CUPS _&&_ PACK OF 6 SKUL...   \n",
       "3174  HERB MARKER MINT _&&_ HERB MARKER CHIVES  _&&_...   \n",
       "541   DOLLY GIRL CHILDRENS CUP _&&_ DOLLY GIRL CHILD...   \n",
       "2478  DOTCOM POSTAGE _&&_ BEADED CRYSTAL HEART GREEN...   \n",
       "3178  HERB MARKER THYME _&&_ HERB MARKER CHIVES  _&&...   \n",
       "189   BEADED CRYSTAL HEART GREEN ON STICK _&&_ BEADE...   \n",
       "500   CHRISTMAS TREE HEART DECORATION _&&_ CHRISTMAS...   \n",
       "943         HERB MARKER THYME _&&_ HERB MARKER ROSEMARY   \n",
       "935        HERB MARKER PARSLEY _&&_ HERB MARKER CHIVES    \n",
       "3182  HERB MARKER PARSLEY _&&_ HERB MARKER THYME _&&...   \n",
       "\n",
       "                                LeftRules  \\\n",
       "4625                  HERB MARKER CHIVES    \n",
       "4347                  HERB MARKER CHIVES    \n",
       "4346                  HERB MARKER CHIVES    \n",
       "4349                  HERB MARKER CHIVES    \n",
       "4348                  HERB MARKER CHIVES    \n",
       "3173                  HERB MARKER CHIVES    \n",
       "2323             SET/6 COLLAGE PAPER CUPS   \n",
       "3177                  HERB MARKER CHIVES    \n",
       "3175                  HERB MARKER CHIVES    \n",
       "3176                  HERB MARKER CHIVES    \n",
       "1866           PACK OF 6 SKULL PAPER CUPS   \n",
       "3174                  HERB MARKER CHIVES    \n",
       "541             DOLLY GIRL CHILDRENS BOWL   \n",
       "2478  BEADED CRYSTAL HEART GREEN ON STICK   \n",
       "3178                  HERB MARKER CHIVES    \n",
       "189   BEADED CRYSTAL HEART GREEN ON STICK   \n",
       "500       CHRISTMAS TREE HEART DECORATION   \n",
       "943                  HERB MARKER ROSEMARY   \n",
       "935                   HERB MARKER CHIVES    \n",
       "3182                  HERB MARKER PARSLEY   \n",
       "\n",
       "                                             RightRules   Support  Confidence  \\\n",
       "4625  HERB MARKER MINT _&&_ HERB MARKER PARSLEY _&&_...  0.006560    0.808612   \n",
       "4347  HERB MARKER MINT _&&_ HERB MARKER PARSLEY _&&_...  0.006715    0.827751   \n",
       "4346  HERB MARKER MINT _&&_ HERB MARKER PARSLEY _&&_...  0.006754    0.832536   \n",
       "4349  HERB MARKER PARSLEY _&&_ HERB MARKER THYME _&&...  0.006909    0.851675   \n",
       "4348  HERB MARKER MINT _&&_ HERB MARKER THYME _&&_ H...  0.006638    0.818182   \n",
       "3173          HERB MARKER MINT _&&_ HERB MARKER PARSLEY  0.007103    0.875598   \n",
       "2323                         SET/6 COLLAGE PAPER PLATES  0.006094    0.887006   \n",
       "3177         HERB MARKER PARSLEY _&&_ HERB MARKER THYME  0.007103    0.875598   \n",
       "3175            HERB MARKER MINT _&&_ HERB MARKER THYME  0.006832    0.842105   \n",
       "3176      HERB MARKER PARSLEY _&&_ HERB MARKER ROSEMARY  0.007103    0.875598   \n",
       "1866                       PACK OF 6 SKULL PAPER PLATES  0.005201    0.779070   \n",
       "3174         HERB MARKER MINT _&&_ HERB MARKER ROSEMARY  0.006871    0.846890   \n",
       "541                            DOLLY GIRL CHILDRENS CUP  0.005978    0.789744   \n",
       "2478  BEADED CRYSTAL HEART PINK ON STICK _&&_ DOTCOM...  0.005124    0.785714   \n",
       "3178        HERB MARKER THYME _&&_ HERB MARKER ROSEMARY  0.007065    0.870813   \n",
       "189                  BEADED CRYSTAL HEART PINK ON STICK  0.005201    0.797619   \n",
       "500                      CHRISTMAS TREE STAR DECORATION  0.005434    0.773481   \n",
       "943                                   HERB MARKER THYME  0.008579    0.920833   \n",
       "935                                 HERB MARKER PARSLEY  0.007492    0.923445   \n",
       "3182        HERB MARKER THYME _&&_ HERB MARKER ROSEMARY  0.007880    0.852941   \n",
       "\n",
       "            Lift  \n",
       "4625  111.997170  \n",
       "4347  109.920239  \n",
       "4346  109.427497  \n",
       "4349  108.082966  \n",
       "4348  106.994924  \n",
       "3173  106.401688  \n",
       "2323  106.283905  \n",
       "3177  105.902150  \n",
       "3175  105.312213  \n",
       "3176  104.917013  \n",
       "1866  104.533309  \n",
       "3174  102.913108  \n",
       "541   102.754416  \n",
       "2478  102.230159  \n",
       "3178  101.510836  \n",
       "189   101.222965  \n",
       "500   100.638428  \n",
       "943   100.094972  \n",
       "935    99.957099  \n",
       "3182   99.427469  "
      ]
     },
     "execution_count": 41,
     "metadata": {},
     "output_type": "execute_result"
    }
   ],
   "source": [
    "# Pop Visualising the result as a readeable dataframe\n",
    "final_results = pd.DataFrame(np.random.randint(low=0, high=1, size=(len(results), 6)), columns=['GeneralRules', 'LeftRules', 'RightRules', 'Support', 'Confidence', 'Lift'])\n",
    "index = 0\n",
    "for g, s, i in results:\n",
    "    final_results.iloc[index] = [' _&&_ '.join(list(g)), ' _&&_ '.join(list(i[0][0])), ' _&&_ '.join(list(i[0][1])), s, i[0][2], i[0][3]]\n",
    "    index = index+1\n",
    "# The most significant rules\n",
    "final_results = final_results.sort_values('Lift', ascending=0)\n",
    "final_results.head(20)"
   ]
  },
  {
   "cell_type": "code",
   "execution_count": 42,
   "metadata": {},
   "outputs": [
    {
     "name": "stdout",
     "output_type": "stream",
     "text": [
      "Rule #1:\n",
      "HERB MARKER CHIVES \n",
      "=> HERB MARKER MINT _&&_ HERB MARKER PARSLEY _&&_ HERB MARKER THYME _&&_ HERB MARKER ROSEMARY\n",
      "Support: 0.006560049685583417 - Confidence: 0.8086124401913876 - Lift: 111.99717034521788\n",
      "--------------------\n",
      "Rule #2:\n",
      "HERB MARKER CHIVES \n",
      "=> HERB MARKER MINT _&&_ HERB MARKER PARSLEY _&&_ HERB MARKER THYME\n",
      "Support: 0.006715317133762906 - Confidence: 0.8277511961722488 - Lift: 109.92023874118286\n",
      "--------------------\n",
      "Rule #3:\n",
      "HERB MARKER CHIVES \n",
      "=> HERB MARKER MINT _&&_ HERB MARKER PARSLEY _&&_ HERB MARKER ROSEMARY\n",
      "Support: 0.006754133995807779 - Confidence: 0.8325358851674641 - Lift: 109.42749731471535\n",
      "--------------------\n",
      "Rule #4:\n",
      "HERB MARKER CHIVES \n",
      "=> HERB MARKER PARSLEY _&&_ HERB MARKER THYME _&&_ HERB MARKER ROSEMARY\n",
      "Support: 0.006909401443987268 - Confidence: 0.8516746411483254 - Lift: 108.08296603577911\n",
      "--------------------\n",
      "Rule #5:\n",
      "HERB MARKER CHIVES \n",
      "=> HERB MARKER MINT _&&_ HERB MARKER THYME _&&_ HERB MARKER ROSEMARY\n",
      "Support: 0.006637683409673162 - Confidence: 0.8181818181818181 - Lift: 106.99492385786802\n",
      "--------------------\n",
      "Rule #6:\n",
      "HERB MARKER CHIVES \n",
      "=> HERB MARKER MINT _&&_ HERB MARKER PARSLEY\n",
      "Support: 0.0071034857542116294 - Confidence: 0.8755980861244019 - Lift: 106.40168818272095\n",
      "--------------------\n",
      "Rule #7:\n",
      "SET/6 COLLAGE PAPER CUPS\n",
      "=> SET/6 COLLAGE PAPER PLATES\n",
      "Support: 0.00609424734104495 - Confidence: 0.887005649717514 - Lift: 106.2839048745237\n",
      "--------------------\n",
      "Rule #8:\n",
      "HERB MARKER CHIVES \n",
      "=> HERB MARKER PARSLEY _&&_ HERB MARKER THYME\n",
      "Support: 0.0071034857542116294 - Confidence: 0.8755980861244019 - Lift: 105.90214974054857\n",
      "--------------------\n",
      "Rule #9:\n",
      "HERB MARKER CHIVES \n",
      "=> HERB MARKER MINT _&&_ HERB MARKER THYME\n",
      "Support: 0.006831767719897523 - Confidence: 0.8421052631578947 - Lift: 105.3122125702606\n",
      "--------------------\n",
      "Rule #10:\n",
      "HERB MARKER CHIVES \n",
      "=> HERB MARKER PARSLEY _&&_ HERB MARKER ROSEMARY\n",
      "Support: 0.0071034857542116294 - Confidence: 0.8755980861244019 - Lift: 104.91701346389229\n",
      "--------------------\n",
      "Rule #11:\n",
      "PACK OF 6 SKULL PAPER CUPS\n",
      "=> PACK OF 6 SKULL PAPER PLATES\n",
      "Support: 0.005201459514012887 - Confidence: 0.7790697674418604 - Lift: 104.53330910852712\n",
      "--------------------\n",
      "Rule #12:\n",
      "HERB MARKER CHIVES \n",
      "=> HERB MARKER MINT _&&_ HERB MARKER ROSEMARY\n",
      "Support: 0.006870584581942396 - Confidence: 0.8468899521531101 - Lift: 102.91310824230388\n",
      "--------------------\n",
      "Rule #13:\n",
      "DOLLY GIRL CHILDRENS BOWL\n",
      "=> DOLLY GIRL CHILDRENS CUP\n",
      "Support: 0.005977796754910333 - Confidence: 0.7897435897435897 - Lift: 102.75441595441595\n",
      "--------------------\n",
      "Rule #14:\n",
      "BEADED CRYSTAL HEART GREEN ON STICK\n",
      "=> BEADED CRYSTAL HEART PINK ON STICK _&&_ DOTCOM POSTAGE\n",
      "Support: 0.005123825789923143 - Confidence: 0.7857142857142858 - Lift: 102.23015873015873\n",
      "--------------------\n",
      "Rule #15:\n",
      "HERB MARKER CHIVES \n",
      "=> HERB MARKER THYME _&&_ HERB MARKER ROSEMARY\n",
      "Support: 0.007064668892166758 - Confidence: 0.8708133971291867 - Lift: 101.51083591331272\n",
      "--------------------\n",
      "Rule #16:\n",
      "BEADED CRYSTAL HEART GREEN ON STICK\n",
      "=> BEADED CRYSTAL HEART PINK ON STICK\n",
      "Support: 0.005201459514012887 - Confidence: 0.7976190476190477 - Lift: 101.22296504808821\n",
      "--------------------\n",
      "Rule #17:\n",
      "CHRISTMAS TREE HEART DECORATION\n",
      "=> CHRISTMAS TREE STAR DECORATION\n",
      "Support: 0.005434360686282121 - Confidence: 0.7734806629834253 - Lift: 100.63842848373234\n",
      "--------------------\n",
      "Rule #18:\n",
      "HERB MARKER ROSEMARY\n",
      "=> HERB MARKER THYME\n",
      "Support: 0.008578526511916776 - Confidence: 0.9208333333333333 - Lift: 100.09497187060478\n",
      "--------------------\n",
      "Rule #19:\n",
      "HERB MARKER CHIVES \n",
      "=> HERB MARKER PARSLEY\n",
      "Support: 0.007491654374660353 - Confidence: 0.9234449760765551 - Lift: 99.95709862892527\n",
      "--------------------\n",
      "Rule #20:\n",
      "HERB MARKER PARSLEY\n",
      "=> HERB MARKER THYME _&&_ HERB MARKER ROSEMARY\n",
      "Support: 0.007879822995109075 - Confidence: 0.8529411764705882 - Lift: 99.42746872504658\n",
      "--------------------\n"
     ]
    }
   ],
   "source": [
    "count=1\n",
    "for i, d in final_results.head(20).iterrows():\n",
    "    print('Rule #'+str(count)+':')\n",
    "    print(d['LeftRules'])\n",
    "    print('=> '+d['RightRules'])\n",
    "    print('Support: '+str(d['Support'])+' - Confidence: '+str(d['Confidence'])+' - Lift: '+str(d['Lift']))\n",
    "    print('--------------------')\n",
    "    count=count+1"
   ]
  }
 ],
 "metadata": {
  "kernelspec": {
   "display_name": "Python 3",
   "language": "python",
   "name": "python3"
  },
  "language_info": {
   "codemirror_mode": {
    "name": "ipython",
    "version": 3
   },
   "file_extension": ".py",
   "mimetype": "text/x-python",
   "name": "python",
   "nbconvert_exporter": "python",
   "pygments_lexer": "ipython3",
   "version": "3.7.4"
  }
 },
 "nbformat": 4,
 "nbformat_minor": 2
}
